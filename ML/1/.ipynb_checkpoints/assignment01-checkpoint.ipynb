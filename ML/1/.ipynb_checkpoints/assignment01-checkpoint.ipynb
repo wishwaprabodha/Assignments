{
 "cells": [
  {
   "cell_type": "code",
   "execution_count": 3,
   "metadata": {},
   "outputs": [],
   "source": [
    "import nltk\n",
    "import pandas as pd\n",
    "from nltk.tokenize import RegexpTokenizer\n",
    "from nltk.corpus import stopwords\n",
    "import os\n",
    "import codecs\n",
    "import string\n",
    "from sklearn.model_selection import train_test_split\n",
    "from sklearn.feature_extraction.text import CountVectorizer"
   ]
  },
  {
   "cell_type": "code",
   "execution_count": 4,
   "metadata": {},
   "outputs": [],
   "source": [
    "def list_files(dir):\n",
    "    r = []\n",
    "    for root, dirs, files in os.walk(dir):\n",
    "        for name in files:\n",
    "            r.append(os.path.join(root, name))\n",
    "    return r"
   ]
  },
  {
   "cell_type": "code",
   "execution_count": 5,
   "metadata": {},
   "outputs": [],
   "source": [
    "comp_f=[]\n",
    "rec_f=[]\n",
    "sci_f=[]\n",
    "talk_f=[]"
   ]
  },
  {
   "cell_type": "markdown",
   "metadata": {},
   "source": [
    "### Get all file names"
   ]
  },
  {
   "cell_type": "code",
   "execution_count": 6,
   "metadata": {},
   "outputs": [],
   "source": [
    "files = list_files('/home/wishwa/COSC/ML/1/Data')"
   ]
  },
  {
   "cell_type": "code",
   "execution_count": 7,
   "metadata": {},
   "outputs": [],
   "source": [
    "def categorize_files(files):\n",
    "    for file in files:\n",
    "        if \"comp\" in file:\n",
    "            comp_f.append(file)\n",
    "        elif \"rec\" in file:\n",
    "            rec_f.append(file)\n",
    "        elif \"sci\" in file:\n",
    "            sci_f.append(file)\n",
    "        elif \"talk\" in file:\n",
    "            talk_f.append(file)"
   ]
  },
  {
   "cell_type": "markdown",
   "metadata": {},
   "source": [
    "### Categorize filenames accordingly"
   ]
  },
  {
   "cell_type": "code",
   "execution_count": 8,
   "metadata": {},
   "outputs": [],
   "source": [
    "categorize_files(files)"
   ]
  },
  {
   "cell_type": "code",
   "execution_count": 9,
   "metadata": {},
   "outputs": [],
   "source": [
    "comp_train,comp_test = train_test_split(comp_f, train_size=0.7,test_size=0.3, random_state=42)\n",
    "rec_train, rec_test = train_test_split(rec_f, train_size=0.7,test_size=0.3, random_state=42)\n",
    "sci_train, sci_test = train_test_split(sci_f, train_size=0.7,test_size=0.3, random_state=42)\n",
    "talk_train,talk_test = train_test_split(talk_f, train_size=0.7,test_size=0.3, random_state=42)"
   ]
  },
  {
   "cell_type": "markdown",
   "metadata": {},
   "source": [
    "### Split train/test"
   ]
  },
  {
   "cell_type": "code",
   "execution_count": 10,
   "metadata": {},
   "outputs": [],
   "source": [
    "def process_files(file):\n",
    "    lt=[]\n",
    "    wtxt = codecs.open(file,encoding='utf-8', errors='ignore').read()\n",
    "    stopWords = set(stopwords.words('english'))\n",
    "    tokenizer = RegexpTokenizer(r'[a-z,A-Z]{2,}')\n",
    "    token=tokenizer.tokenize(wtxt)\n",
    "    for w in token:\n",
    "        w = w.translate(str.maketrans('','',string.punctuation))\n",
    "        if w.lower() not in stopWords and w.lower() not in lt:\n",
    "            lt.append(w)\n",
    "    return lt"
   ]
  },
  {
   "cell_type": "code",
   "execution_count": 11,
   "metadata": {},
   "outputs": [],
   "source": [
    "compTrain=[]\n",
    "recTrain=[]\n",
    "sciTrain=[]\n",
    "talkTrain=[]\n",
    "compTest=[]\n",
    "recTest=[]\n",
    "sciTest=[]\n",
    "talkTest=[]"
   ]
  },
  {
   "cell_type": "code",
   "execution_count": 12,
   "metadata": {},
   "outputs": [],
   "source": [
    "for file in comp_train:\n",
    "    compTrain.append(process_files(file))\n",
    "for file in rec_train:\n",
    "    recTrain.append(process_files(file))\n",
    "for file in sci_train:\n",
    "    sciTrain.append(process_files(file))\n",
    "for file in talk_train:\n",
    "    talkTrain.append(process_files(file))\n",
    "for file in comp_test:\n",
    "    compTest.append(process_files(file))\n",
    "for file in rec_test:\n",
    "    recTest.append(process_files(file))\n",
    "for file in sci_test:\n",
    "    sciTest.append(process_files(file))\n",
    "for file in talk_test:\n",
    "    talkTest.append(process_files(file))"
   ]
  },
  {
   "cell_type": "code",
   "execution_count": 13,
   "metadata": {},
   "outputs": [],
   "source": [
    "from collections import Iterable\n",
    "def flatten(list):\n",
    "    for i in list:\n",
    "        for j in i:\n",
    "            yield j"
   ]
  },
  {
   "cell_type": "code",
   "execution_count": 14,
   "metadata": {},
   "outputs": [],
   "source": [
    "def flat_list(lst):\n",
    "    lt=[]\n",
    "    lt=flatten(lst)\n",
    "    llt=list(lt)\n",
    "    return llt"
   ]
  },
  {
   "cell_type": "code",
   "execution_count": 15,
   "metadata": {},
   "outputs": [],
   "source": [
    "def convert_to_list(dataList):\n",
    "    l=flat_list(dataList)\n",
    "    data=[]\n",
    "    for dt in l:\n",
    "        data.append(dt)\n",
    "    return data"
   ]
  },
  {
   "cell_type": "markdown",
   "metadata": {},
   "source": [
    "### Create list with categorized data"
   ]
  },
  {
   "cell_type": "code",
   "execution_count": 16,
   "metadata": {},
   "outputs": [],
   "source": [
    "comptrain=convert_to_list(compTrain)\n",
    "rectrain=convert_to_list(recTrain)\n",
    "scitrain=convert_to_list(sciTrain)\n",
    "talktrain=convert_to_list(talkTrain)\n",
    "comptest=convert_to_list(compTest)\n",
    "rectest=convert_to_list(recTest)\n",
    "scitest=convert_to_list(sciTest)\n",
    "talktest=convert_to_list(talkTest)"
   ]
  },
  {
   "cell_type": "code",
   "execution_count": 17,
   "metadata": {},
   "outputs": [],
   "source": [
    "from collections import defaultdict\n",
    "def list_to_dic(dataList):\n",
    "    fq= defaultdict( int )\n",
    "    for word in dataList:\n",
    "        fq[word] += 1\n",
    "    return fq  "
   ]
  },
  {
   "cell_type": "markdown",
   "metadata": {},
   "source": [
    "### Convert list to dictionary"
   ]
  },
  {
   "cell_type": "code",
   "execution_count": 18,
   "metadata": {},
   "outputs": [],
   "source": [
    "comp_dist_tr = list_to_dic(comptrain)\n",
    "rec_dist_tr= list_to_dic(rectrain)\n",
    "sci_dist_tr= list_to_dic(scitrain)\n",
    "talk_dist_tr= list_to_dic(talktrain)\n",
    "comp_dist_te= list_to_dic(comptest)\n",
    "rec_dist_te= list_to_dic(rectest)\n",
    "sci_dist_te= list_to_dic(scitest)\n",
    "talk_dist_te= list_to_dic(talktest)"
   ]
  },
  {
   "cell_type": "markdown",
   "metadata": {},
   "source": [
    "### Print Words to csv"
   ]
  },
  {
   "cell_type": "code",
   "execution_count": 22,
   "metadata": {},
   "outputs": [],
   "source": [
    "df_comp_train = pd.DataFrame(comptrain)\n",
    "df_comp_test= pd.DataFrame(comptest)\n",
    "df_rec_train = pd.DataFrame(rectrain)\n",
    "df_rec_test = pd.DataFrame(rectest)\n",
    "df_sci_train = pd.DataFrame(scitrain)\n",
    "df_sci_test = pd.DataFrame(scitest)\n",
    "df_talk_train = pd.DataFrame(talktrain)\n",
    "df_talk_test = pd.DataFrame(talktest)"
   ]
  },
  {
   "cell_type": "code",
   "execution_count": 23,
   "metadata": {},
   "outputs": [],
   "source": [
    "df_comp_train.to_csv('comptrain.csv', index=False, header=False)\n",
    "df_comp_test.to_csv('comptest.csv', index=False, header=False)\n",
    "df_rec_train.to_csv('rectrain.csv', index=False, header=False)\n",
    "df_rec_test.to_csv('rectest.csv', index=False, header=False)\n",
    "df_sci_train.to_csv('scitrain.csv', index=False, header=False)\n",
    "df_sci_test.to_csv('scitest.csv', index=False, header=False)\n",
    "df_talk_train.to_csv('talktrain.csv', index=False, header=False)\n",
    "df_talk_test.to_csv('talktest.csv', index=False, header=False)"
   ]
  },
  {
   "cell_type": "markdown",
   "metadata": {},
   "source": [
    "### Combine list  for categories"
   ]
  },
  {
   "cell_type": "code",
   "execution_count": 25,
   "metadata": {},
   "outputs": [
    {
     "data": {
      "text/plain": [
       "1475382"
      ]
     },
     "execution_count": 25,
     "metadata": {},
     "output_type": "execute_result"
    }
   ],
   "source": [
    "train_all=comptrain+rectrain+scitrain+talktrain\n",
    "test_all=comptest+rectest+scitest+talktest"
   ]
  },
  {
   "cell_type": "code",
   "execution_count": 39,
   "metadata": {},
   "outputs": [],
   "source": []
  },
  {
   "cell_type": "code",
   "execution_count": null,
   "metadata": {},
   "outputs": [],
   "source": []
  },
  {
   "cell_type": "code",
   "execution_count": null,
   "metadata": {},
   "outputs": [],
   "source": []
  }
 ],
 "metadata": {
  "kernelspec": {
   "display_name": "Python 3",
   "language": "python",
   "name": "python3"
  },
  "language_info": {
   "codemirror_mode": {
    "name": "ipython",
    "version": 3
   },
   "file_extension": ".py",
   "mimetype": "text/x-python",
   "name": "python",
   "nbconvert_exporter": "python",
   "pygments_lexer": "ipython3",
   "version": "3.6.5"
  }
 },
 "nbformat": 4,
 "nbformat_minor": 2
}
