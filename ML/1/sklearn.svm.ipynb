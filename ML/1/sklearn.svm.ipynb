{
 "cells": [
  {
   "cell_type": "code",
   "execution_count": 2,
   "metadata": {},
   "outputs": [
    {
     "name": "stdout",
     "output_type": "stream",
     "text": [
      "actual test data sets labels\n",
      "[' Control', ' Control', ' Control', ' Control', ' Control', ' Control', ' Control', ' Control', ' Control', ' Control', ' AD']\n",
      "predicted labels by the model\n",
      "[' Control' ' Control' ' AD' ' Control' ' Control' ' Control' ' Control'\n",
      " ' Control' ' Control' ' AD' ' AD']\n"
     ]
    },
    {
     "data": {
      "text/plain": [
       "81.818181818181827"
      ]
     },
     "execution_count": 2,
     "metadata": {},
     "output_type": "execute_result"
    }
   ],
   "source": [
    "#Using sklearn.svm and its four kernals\n",
    "import pandas as pd\n",
    "\n",
    "original_training=pd.read_csv(\".\\\\ADvsHCFourier.csv\")\n",
    "original_training.head(10)\n",
    "\n",
    "X=original_training.copy()\n",
    "\n",
    "del X['class']\n",
    "del X['experiment']\n",
    "#X.head()\n",
    "#print(X)\n",
    "\n",
    "\n",
    "y = []\n",
    "\n",
    "for data in original_training ['class']:\n",
    "    y.append(data)\n",
    "    \n",
    "#print(y)\n",
    "\n",
    "#this y variable consists of which class the words in\n",
    "#now we are using a multinomial naive bayes model\n",
    "#down from here we can chage any algorithm without havng to change all the code\n",
    "#only have to change the following part\n",
    "\"\"\"\n",
    "from sklearn.naive_bayes import MultinomialNB\n",
    "clsfr=MultinomialNB()\n",
    "clsfr.fit(X.abs(),y)\n",
    "\n",
    "\"\"\"\n",
    "\n",
    "# import support vector classifier\n",
    "from sklearn.svm import SVC # \"Support Vector Classifier\"\n",
    "clf = SVC(kernel='poly', degree=9)\n",
    "\n",
    "#kernel='poly', degree=9 will give you 0.81 accuracy\n",
    "#kernel='sigmoid' will give you little over 0.5454 accuracy\n",
    "#kernel='linear' as the kernel gives less than 0.4545 accuracy\n",
    "#kernel='rbf' will give you 0.09 accuracy\n",
    "\n",
    "#fitting x samples and y classes\n",
    "clf.fit(X.abs(),y)\n",
    "\n",
    "test_data= pd.read_csv(\".\\\\ADvsHCFourier_test.csv\")\n",
    "X_test=test_data.copy()\n",
    "del X_test['class']\n",
    "del X_test['experiment']\n",
    "X_test.head(8)\n",
    "Y_test=[]\n",
    "for t_data in test_data ['class']:\n",
    "    Y_test.append(t_data)\n",
    "\n",
    "print('actual test data sets labels')\n",
    "print(Y_test)    \n",
    "\n",
    "print('predicted labels by the model')\n",
    "print(clf.predict(X_test))\n",
    "\n",
    "from sklearn.metrics import accuracy_score\n",
    "\n",
    "accuracy_score(Y_test, clf.predict(X_test))*100\n",
    "\n"
   ]
  },
  {
   "cell_type": "code",
   "execution_count": null,
   "metadata": {
    "collapsed": true
   },
   "outputs": [],
   "source": []
  }
 ],
 "metadata": {
  "kernelspec": {
   "display_name": "Python [default]",
   "language": "python",
   "name": "python3"
  },
  "language_info": {
   "codemirror_mode": {
    "name": "ipython",
    "version": 3
   },
   "file_extension": ".py",
   "mimetype": "text/x-python",
   "name": "python",
   "nbconvert_exporter": "python",
   "pygments_lexer": "ipython3",
   "version": "3.6.6"
  }
 },
 "nbformat": 4,
 "nbformat_minor": 2
}
